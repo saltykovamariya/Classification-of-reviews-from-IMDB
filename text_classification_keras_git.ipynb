{
  "cells": [
    {
      "cell_type": "markdown",
      "metadata": {
        "id": "DX06mSpReD28"
      },
      "source": [
        "## Classification of reviews from imdb.com\n",
        "\n",
        "Download the dataset from [kaggle](https://www.kaggle.com/lakshmi25npathi/imdb-dataset-of-50k-movie-reviews)"
      ]
    },
    {
      "cell_type": "markdown",
      "metadata": {
        "id": "uud4OSrueD2-"
      },
      "source": [
        "## Import libraries"
      ]
    },
    {
      "cell_type": "code",
      "execution_count": 25,
      "metadata": {
        "id": "-4NDLpgAeD3A"
      },
      "outputs": [],
      "source": [
        "import pandas as pd\n",
        "import numpy as np\n",
        "from sklearn.model_selection import train_test_split\n",
        "import matplotlib.pyplot as plt\n",
        "import tensorflow as tf\n",
        "from tensorflow import keras"
      ]
    },
    {
      "cell_type": "markdown",
      "source": [
        "## Load dataset"
      ],
      "metadata": {
        "id": "T_qc0153iS20"
      }
    },
    {
      "cell_type": "code",
      "source": [
        "df = pd.read_csv('/content/drive/MyDrive/Colab_Notebooks/IMDB_dataset/clean_tweets')"
      ],
      "metadata": {
        "id": "wmbGaom0IvTk"
      },
      "execution_count": 11,
      "outputs": []
    },
    {
      "cell_type": "code",
      "source": [
        "X = df[\"tweet\"]\n",
        "Y = df[\"sentiment\"]"
      ],
      "metadata": {
        "id": "ZQcmvbOCwRlF"
      },
      "execution_count": 12,
      "outputs": []
    },
    {
      "cell_type": "code",
      "source": [
        "X_train, X_test, y_train, y_test = train_test_split(X, Y, test_size=0.20, random_state=900, \\\n",
        "                                                    shuffle=True, stratify=Y)\n",
        "X_train.shape, X_test.shape"
      ],
      "metadata": {
        "colab": {
          "base_uri": "https://localhost:8080/"
        },
        "id": "d1xDcq2VwJ_H",
        "outputId": "68ec1aad-8bce-47dc-e6d0-e9fa61535cc0"
      },
      "execution_count": 13,
      "outputs": [
        {
          "output_type": "execute_result",
          "data": {
            "text/plain": [
              "((40000,), (10000,))"
            ]
          },
          "metadata": {},
          "execution_count": 13
        }
      ]
    },
    {
      "cell_type": "markdown",
      "source": [
        "## TextVectorization"
      ],
      "metadata": {
        "id": "Omc9-Thn6xT4"
      }
    },
    {
      "cell_type": "code",
      "source": [
        "VOCAB_SIZE = 1000\n",
        "encoder = tf.keras.layers.experimental.preprocessing.TextVectorization(\n",
        "    max_tokens=VOCAB_SIZE)\n",
        "encoder.adapt(df.iloc[:, 0].values)"
      ],
      "metadata": {
        "id": "o_0LBrB3uzNd"
      },
      "execution_count": 14,
      "outputs": []
    },
    {
      "cell_type": "code",
      "source": [
        "BATCH_SIZE = 64"
      ],
      "metadata": {
        "id": "BmXTJYcRuzQD"
      },
      "execution_count": 15,
      "outputs": []
    },
    {
      "cell_type": "markdown",
      "source": [
        "## Training"
      ],
      "metadata": {
        "id": "7TvwIUfx6zu_"
      }
    },
    {
      "cell_type": "code",
      "source": [
        "model = tf.keras.Sequential([encoder,\n",
        "                             tf.keras.layers.Embedding(\n",
        "                                 input_dim=len(encoder.get_vocabulary()),\n",
        "                                 output_dim=64,\n",
        "                                 # Use masking to handle the variable sequence lengths\n",
        "                                 mask_zero=True\n",
        "                             ),\n",
        "                             tf.keras.layers.Bidirectional(tf.keras.layers.LSTM(64, dropout=.3, return_sequences = True)),\n",
        "                             tf.keras.layers.Bidirectional(tf.keras.layers.LSTM(32)),\n",
        "                             tf.keras.layers.Dense(64, activation='relu'),\n",
        "                             tf.keras.layers.Dropout(0.5),\n",
        "                             tf.keras.layers.Dense(1)\n",
        "                            ])"
      ],
      "metadata": {
        "id": "I6XBAlKauzWo"
      },
      "execution_count": 17,
      "outputs": []
    },
    {
      "cell_type": "code",
      "source": [
        "model.compile(loss=tf.keras.losses.BinaryCrossentropy(),\n",
        "              optimizer=tf.keras.optimizers.Adam(1e-4),\n",
        "              metrics=['accuracy'])"
      ],
      "metadata": {
        "id": "3MafythKuzY2"
      },
      "execution_count": 18,
      "outputs": []
    },
    {
      "cell_type": "code",
      "source": [
        "model.summary()"
      ],
      "metadata": {
        "colab": {
          "base_uri": "https://localhost:8080/"
        },
        "id": "uaYDS3MlvGgP",
        "outputId": "ee818dd6-c703-487f-edb2-044c681f0e24"
      },
      "execution_count": 19,
      "outputs": [
        {
          "output_type": "stream",
          "name": "stdout",
          "text": [
            "Model: \"sequential\"\n",
            "_________________________________________________________________\n",
            " Layer (type)                Output Shape              Param #   \n",
            "=================================================================\n",
            " text_vectorization (TextVec  (None, None)             0         \n",
            " torization)                                                     \n",
            "                                                                 \n",
            " embedding (Embedding)       (None, None, 64)          64000     \n",
            "                                                                 \n",
            " bidirectional (Bidirectiona  (None, None, 128)        66048     \n",
            " l)                                                              \n",
            "                                                                 \n",
            " bidirectional_1 (Bidirectio  (None, 64)               41216     \n",
            " nal)                                                            \n",
            "                                                                 \n",
            " dense (Dense)               (None, 64)                4160      \n",
            "                                                                 \n",
            " dropout (Dropout)           (None, 64)                0         \n",
            "                                                                 \n",
            " dense_1 (Dense)             (None, 1)                 65        \n",
            "                                                                 \n",
            "=================================================================\n",
            "Total params: 175,489\n",
            "Trainable params: 175,489\n",
            "Non-trainable params: 0\n",
            "_________________________________________________________________\n"
          ]
        }
      ]
    },
    {
      "cell_type": "code",
      "source": [
        "history = model.fit(X_train, pd.factorize(y_train)[0], epochs=10,\n",
        "                    validation_data=(X_test, pd.factorize(y_test)[0]),  \n",
        "                    validation_steps=30)"
      ],
      "metadata": {
        "colab": {
          "base_uri": "https://localhost:8080/"
        },
        "id": "B6JVx5FLvGjE",
        "outputId": "8797dbbf-c06e-47f3-cc9c-45225a5ecc95"
      },
      "execution_count": 20,
      "outputs": [
        {
          "output_type": "stream",
          "name": "stdout",
          "text": [
            "Epoch 1/10\n",
            "1250/1250 [==============================] - 96s 62ms/step - loss: 0.6961 - accuracy: 0.6253 - val_loss: 0.4425 - val_accuracy: 0.8144\n",
            "Epoch 2/10\n",
            "1250/1250 [==============================] - 72s 58ms/step - loss: 0.5036 - accuracy: 0.7964 - val_loss: 0.4574 - val_accuracy: 0.8395\n",
            "Epoch 3/10\n",
            "1250/1250 [==============================] - 72s 57ms/step - loss: 0.7170 - accuracy: 0.5931 - val_loss: 0.6473 - val_accuracy: 0.5752\n",
            "Epoch 4/10\n",
            "1250/1250 [==============================] - 71s 57ms/step - loss: 0.5799 - accuracy: 0.6923 - val_loss: 0.4812 - val_accuracy: 0.7863\n",
            "Epoch 5/10\n",
            "1250/1250 [==============================] - 72s 57ms/step - loss: 0.5001 - accuracy: 0.7789 - val_loss: 0.4569 - val_accuracy: 0.7988\n",
            "Epoch 6/10\n",
            "1250/1250 [==============================] - 73s 59ms/step - loss: 0.4785 - accuracy: 0.7971 - val_loss: 0.4622 - val_accuracy: 0.8010\n",
            "Epoch 7/10\n",
            "1250/1250 [==============================] - 72s 58ms/step - loss: 0.4710 - accuracy: 0.8085 - val_loss: 0.4568 - val_accuracy: 0.8127\n",
            "Epoch 8/10\n",
            "1250/1250 [==============================] - 73s 58ms/step - loss: 0.4487 - accuracy: 0.8102 - val_loss: 0.4547 - val_accuracy: 0.8073\n",
            "Epoch 9/10\n",
            "1250/1250 [==============================] - 73s 58ms/step - loss: 0.4379 - accuracy: 0.8248 - val_loss: 0.4446 - val_accuracy: 0.8291\n",
            "Epoch 10/10\n",
            "1250/1250 [==============================] - 75s 60ms/step - loss: 0.4251 - accuracy: 0.8260 - val_loss: 0.4363 - val_accuracy: 0.8352\n"
          ]
        }
      ]
    },
    {
      "cell_type": "code",
      "source": [
        ""
      ],
      "metadata": {
        "id": "haC9_9KuFlgm"
      },
      "execution_count": null,
      "outputs": []
    }
  ],
  "metadata": {
    "kernelspec": {
      "display_name": "Python 3 (ipykernel)",
      "language": "python",
      "name": "python3"
    },
    "language_info": {
      "codemirror_mode": {
        "name": "ipython",
        "version": 3
      },
      "file_extension": ".py",
      "mimetype": "text/x-python",
      "name": "python",
      "nbconvert_exporter": "python",
      "pygments_lexer": "ipython3",
      "version": "3.9.7"
    },
    "colab": {
      "name": "text_classification_keras_git.ipynb",
      "provenance": [],
      "collapsed_sections": [],
      "machine_shape": "hm"
    },
    "accelerator": "GPU"
  },
  "nbformat": 4,
  "nbformat_minor": 0
}