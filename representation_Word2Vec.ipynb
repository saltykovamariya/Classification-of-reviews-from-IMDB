{
  "cells": [
    {
      "cell_type": "markdown",
      "metadata": {
        "id": "DX06mSpReD28"
      },
      "source": [
        "## Classification of reviews from imdb.com\n",
        "\n",
        "Download the dataset from [kaggle](https://www.kaggle.com/lakshmi25npathi/imdb-dataset-of-50k-movie-reviews)"
      ]
    },
    {
      "cell_type": "markdown",
      "metadata": {
        "id": "uud4OSrueD2-"
      },
      "source": [
        "## Import libraries"
      ]
    },
    {
      "cell_type": "code",
      "execution_count": 1,
      "metadata": {
        "id": "JbZi-IULeD3L"
      },
      "outputs": [],
      "source": [
        "import pandas as pd\n",
        "import matplotlib.pyplot as plt\n",
        "from gensim.models import Word2Vec\n",
        "from sklearn.manifold import TSNE\n",
        "from adjustText import adjust_text"
      ]
    },
    {
      "cell_type": "markdown",
      "metadata": {
        "id": "T_qc0153iS20"
      },
      "source": [
        "## Load dataset"
      ]
    },
    {
      "cell_type": "code",
      "execution_count": 2,
      "metadata": {
        "id": "wmbGaom0IvTk"
      },
      "outputs": [],
      "source": [
        "df = pd.read_csv('/content/drive/MyDrive/Colab_Notebooks/IMDB_dataset/clean_tweets')"
      ]
    },
    {
      "cell_type": "code",
      "execution_count": 3,
      "metadata": {
        "id": "RU3jsjXNuZfg"
      },
      "outputs": [],
      "source": [
        "df['tweet_split'] = df['tweet'].str.split(' ')"
      ]
    },
    {
      "cell_type": "code",
      "execution_count": 4,
      "metadata": {
        "colab": {
          "base_uri": "https://localhost:8080/",
          "height": 423
        },
        "id": "dsQBCL4zZGaf",
        "outputId": "8338840d-27e8-4b27-933c-55cdb28a35c3"
      },
      "outputs": [
        {
          "data": {
            "text/html": [
              "\n",
              "  <div id=\"df-f1332a16-242d-4484-b3f4-7175706407d8\">\n",
              "    <div class=\"colab-df-container\">\n",
              "      <div>\n",
              "<style scoped>\n",
              "    .dataframe tbody tr th:only-of-type {\n",
              "        vertical-align: middle;\n",
              "    }\n",
              "\n",
              "    .dataframe tbody tr th {\n",
              "        vertical-align: top;\n",
              "    }\n",
              "\n",
              "    .dataframe thead th {\n",
              "        text-align: right;\n",
              "    }\n",
              "</style>\n",
              "<table border=\"1\" class=\"dataframe\">\n",
              "  <thead>\n",
              "    <tr style=\"text-align: right;\">\n",
              "      <th></th>\n",
              "      <th>tweet</th>\n",
              "      <th>sentiment</th>\n",
              "      <th>tweet_split</th>\n",
              "    </tr>\n",
              "  </thead>\n",
              "  <tbody>\n",
              "    <tr>\n",
              "      <th>0</th>\n",
              "      <td>reviewer mentioned watching episode hooked rig...</td>\n",
              "      <td>1</td>\n",
              "      <td>[reviewer, mentioned, watching, episode, hooke...</td>\n",
              "    </tr>\n",
              "    <tr>\n",
              "      <th>1</th>\n",
              "      <td>wonderful little production filming technique ...</td>\n",
              "      <td>1</td>\n",
              "      <td>[wonderful, little, production, filming, techn...</td>\n",
              "    </tr>\n",
              "    <tr>\n",
              "      <th>2</th>\n",
              "      <td>thought wonderful way spend time hot summer we...</td>\n",
              "      <td>1</td>\n",
              "      <td>[thought, wonderful, way, spend, time, hot, su...</td>\n",
              "    </tr>\n",
              "    <tr>\n",
              "      <th>3</th>\n",
              "      <td>basically family little boy jake think zombie ...</td>\n",
              "      <td>0</td>\n",
              "      <td>[basically, family, little, boy, jake, think, ...</td>\n",
              "    </tr>\n",
              "    <tr>\n",
              "      <th>4</th>\n",
              "      <td>petter mattei love time money visually stunnin...</td>\n",
              "      <td>1</td>\n",
              "      <td>[petter, mattei, love, time, money, visually, ...</td>\n",
              "    </tr>\n",
              "    <tr>\n",
              "      <th>...</th>\n",
              "      <td>...</td>\n",
              "      <td>...</td>\n",
              "      <td>...</td>\n",
              "    </tr>\n",
              "    <tr>\n",
              "      <th>49995</th>\n",
              "      <td>thought movie right good job wasn creative ori...</td>\n",
              "      <td>1</td>\n",
              "      <td>[thought, movie, right, good, job, wasn, creat...</td>\n",
              "    </tr>\n",
              "    <tr>\n",
              "      <th>49996</th>\n",
              "      <td>bad plot bad dialogue bad acting idiotic direc...</td>\n",
              "      <td>0</td>\n",
              "      <td>[bad, plot, bad, dialogue, bad, acting, idioti...</td>\n",
              "    </tr>\n",
              "    <tr>\n",
              "      <th>49997</th>\n",
              "      <td>catholic taught parochial elementary school nu...</td>\n",
              "      <td>0</td>\n",
              "      <td>[catholic, taught, parochial, elementary, scho...</td>\n",
              "    </tr>\n",
              "    <tr>\n",
              "      <th>49998</th>\n",
              "      <td>going disagree previous comment maltin second ...</td>\n",
              "      <td>0</td>\n",
              "      <td>[going, disagree, previous, comment, maltin, s...</td>\n",
              "    </tr>\n",
              "    <tr>\n",
              "      <th>49999</th>\n",
              "      <td>expects star trek movie high art fan expect mo...</td>\n",
              "      <td>0</td>\n",
              "      <td>[expects, star, trek, movie, high, art, fan, e...</td>\n",
              "    </tr>\n",
              "  </tbody>\n",
              "</table>\n",
              "<p>50000 rows × 3 columns</p>\n",
              "</div>\n",
              "      <button class=\"colab-df-convert\" onclick=\"convertToInteractive('df-f1332a16-242d-4484-b3f4-7175706407d8')\"\n",
              "              title=\"Convert this dataframe to an interactive table.\"\n",
              "              style=\"display:none;\">\n",
              "        \n",
              "  <svg xmlns=\"http://www.w3.org/2000/svg\" height=\"24px\"viewBox=\"0 0 24 24\"\n",
              "       width=\"24px\">\n",
              "    <path d=\"M0 0h24v24H0V0z\" fill=\"none\"/>\n",
              "    <path d=\"M18.56 5.44l.94 2.06.94-2.06 2.06-.94-2.06-.94-.94-2.06-.94 2.06-2.06.94zm-11 1L8.5 8.5l.94-2.06 2.06-.94-2.06-.94L8.5 2.5l-.94 2.06-2.06.94zm10 10l.94 2.06.94-2.06 2.06-.94-2.06-.94-.94-2.06-.94 2.06-2.06.94z\"/><path d=\"M17.41 7.96l-1.37-1.37c-.4-.4-.92-.59-1.43-.59-.52 0-1.04.2-1.43.59L10.3 9.45l-7.72 7.72c-.78.78-.78 2.05 0 2.83L4 21.41c.39.39.9.59 1.41.59.51 0 1.02-.2 1.41-.59l7.78-7.78 2.81-2.81c.8-.78.8-2.07 0-2.86zM5.41 20L4 18.59l7.72-7.72 1.47 1.35L5.41 20z\"/>\n",
              "  </svg>\n",
              "      </button>\n",
              "      \n",
              "  <style>\n",
              "    .colab-df-container {\n",
              "      display:flex;\n",
              "      flex-wrap:wrap;\n",
              "      gap: 12px;\n",
              "    }\n",
              "\n",
              "    .colab-df-convert {\n",
              "      background-color: #E8F0FE;\n",
              "      border: none;\n",
              "      border-radius: 50%;\n",
              "      cursor: pointer;\n",
              "      display: none;\n",
              "      fill: #1967D2;\n",
              "      height: 32px;\n",
              "      padding: 0 0 0 0;\n",
              "      width: 32px;\n",
              "    }\n",
              "\n",
              "    .colab-df-convert:hover {\n",
              "      background-color: #E2EBFA;\n",
              "      box-shadow: 0px 1px 2px rgba(60, 64, 67, 0.3), 0px 1px 3px 1px rgba(60, 64, 67, 0.15);\n",
              "      fill: #174EA6;\n",
              "    }\n",
              "\n",
              "    [theme=dark] .colab-df-convert {\n",
              "      background-color: #3B4455;\n",
              "      fill: #D2E3FC;\n",
              "    }\n",
              "\n",
              "    [theme=dark] .colab-df-convert:hover {\n",
              "      background-color: #434B5C;\n",
              "      box-shadow: 0px 1px 3px 1px rgba(0, 0, 0, 0.15);\n",
              "      filter: drop-shadow(0px 1px 2px rgba(0, 0, 0, 0.3));\n",
              "      fill: #FFFFFF;\n",
              "    }\n",
              "  </style>\n",
              "\n",
              "      <script>\n",
              "        const buttonEl =\n",
              "          document.querySelector('#df-f1332a16-242d-4484-b3f4-7175706407d8 button.colab-df-convert');\n",
              "        buttonEl.style.display =\n",
              "          google.colab.kernel.accessAllowed ? 'block' : 'none';\n",
              "\n",
              "        async function convertToInteractive(key) {\n",
              "          const element = document.querySelector('#df-f1332a16-242d-4484-b3f4-7175706407d8');\n",
              "          const dataTable =\n",
              "            await google.colab.kernel.invokeFunction('convertToInteractive',\n",
              "                                                     [key], {});\n",
              "          if (!dataTable) return;\n",
              "\n",
              "          const docLinkHtml = 'Like what you see? Visit the ' +\n",
              "            '<a target=\"_blank\" href=https://colab.research.google.com/notebooks/data_table.ipynb>data table notebook</a>'\n",
              "            + ' to learn more about interactive tables.';\n",
              "          element.innerHTML = '';\n",
              "          dataTable['output_type'] = 'display_data';\n",
              "          await google.colab.output.renderOutput(dataTable, element);\n",
              "          const docLink = document.createElement('div');\n",
              "          docLink.innerHTML = docLinkHtml;\n",
              "          element.appendChild(docLink);\n",
              "        }\n",
              "      </script>\n",
              "    </div>\n",
              "  </div>\n",
              "  "
            ],
            "text/plain": [
              "                                                   tweet  sentiment  \\\n",
              "0      reviewer mentioned watching episode hooked rig...          1   \n",
              "1      wonderful little production filming technique ...          1   \n",
              "2      thought wonderful way spend time hot summer we...          1   \n",
              "3      basically family little boy jake think zombie ...          0   \n",
              "4      petter mattei love time money visually stunnin...          1   \n",
              "...                                                  ...        ...   \n",
              "49995  thought movie right good job wasn creative ori...          1   \n",
              "49996  bad plot bad dialogue bad acting idiotic direc...          0   \n",
              "49997  catholic taught parochial elementary school nu...          0   \n",
              "49998  going disagree previous comment maltin second ...          0   \n",
              "49999  expects star trek movie high art fan expect mo...          0   \n",
              "\n",
              "                                             tweet_split  \n",
              "0      [reviewer, mentioned, watching, episode, hooke...  \n",
              "1      [wonderful, little, production, filming, techn...  \n",
              "2      [thought, wonderful, way, spend, time, hot, su...  \n",
              "3      [basically, family, little, boy, jake, think, ...  \n",
              "4      [petter, mattei, love, time, money, visually, ...  \n",
              "...                                                  ...  \n",
              "49995  [thought, movie, right, good, job, wasn, creat...  \n",
              "49996  [bad, plot, bad, dialogue, bad, acting, idioti...  \n",
              "49997  [catholic, taught, parochial, elementary, scho...  \n",
              "49998  [going, disagree, previous, comment, maltin, s...  \n",
              "49999  [expects, star, trek, movie, high, art, fan, e...  \n",
              "\n",
              "[50000 rows x 3 columns]"
            ]
          },
          "execution_count": 4,
          "metadata": {},
          "output_type": "execute_result"
        }
      ],
      "source": [
        "df"
      ]
    },
    {
      "cell_type": "markdown",
      "metadata": {
        "id": "pzsFrAl3fhI9"
      },
      "source": [
        "## Training model"
      ]
    },
    {
      "cell_type": "code",
      "execution_count": 5,
      "metadata": {
        "id": "jC4DI8UKeD3Q"
      },
      "outputs": [],
      "source": [
        "model = Word2Vec(min_count=20,\n",
        "                 window=3,\n",
        "                 size=400)"
      ]
    },
    {
      "cell_type": "code",
      "execution_count": 6,
      "metadata": {
        "id": "OzDchehleD3Q"
      },
      "outputs": [],
      "source": [
        "model.build_vocab(df['tweet_split'])"
      ]
    },
    {
      "cell_type": "code",
      "execution_count": 7,
      "metadata": {
        "colab": {
          "base_uri": "https://localhost:8080/"
        },
        "id": "V-rl6Fq8eD3Q",
        "outputId": "9d32b515-ff98-40c2-c2b8-69674195e352"
      },
      "outputs": [
        {
          "data": {
            "text/plain": [
              "(90417194, 100583060)"
            ]
          },
          "execution_count": 7,
          "metadata": {},
          "output_type": "execute_result"
        }
      ],
      "source": [
        "# train model\n",
        "model.train(df['tweet_split'], \n",
        "            total_examples=len(df['tweet_split']), \n",
        "            epochs=20)"
      ]
    },
    {
      "cell_type": "code",
      "execution_count": 8,
      "metadata": {
        "id": "brKKfeRBVuT4"
      },
      "outputs": [],
      "source": [
        "words=model.wv.vocab.keys()"
      ]
    },
    {
      "cell_type": "code",
      "execution_count": 9,
      "metadata": {
        "colab": {
          "base_uri": "https://localhost:8080/"
        },
        "id": "7WZZqAnuaFMw",
        "outputId": "dbfdec87-2170-4f5a-a8e8-936affc111f1"
      },
      "outputs": [
        {
          "data": {
            "text/plain": [
              "16992"
            ]
          },
          "execution_count": 9,
          "metadata": {},
          "output_type": "execute_result"
        }
      ],
      "source": [
        "len(words)"
      ]
    },
    {
      "cell_type": "code",
      "execution_count": 10,
      "metadata": {
        "id": "PMs5THFQeD3R"
      },
      "outputs": [],
      "source": [
        "X_word = model.wv.vectors"
      ]
    },
    {
      "cell_type": "code",
      "execution_count": 11,
      "metadata": {
        "colab": {
          "base_uri": "https://localhost:8080/"
        },
        "id": "8v0Aqu41eD3S",
        "outputId": "d2643886-1927-406f-8c8f-dae1e73ab4db"
      },
      "outputs": [
        {
          "data": {
            "text/plain": [
              "(16992, 400)"
            ]
          },
          "execution_count": 11,
          "metadata": {},
          "output_type": "execute_result"
        }
      ],
      "source": [
        "X_word.shape"
      ]
    },
    {
      "cell_type": "code",
      "execution_count": 12,
      "metadata": {
        "colab": {
          "base_uri": "https://localhost:8080/"
        },
        "id": "Ry18rBMKeD3S",
        "outputId": "2726045b-797a-417f-d2a8-ea85310a3729"
      },
      "outputs": [
        {
          "name": "stderr",
          "output_type": "stream",
          "text": [
            "/usr/local/lib/python3.7/dist-packages/sklearn/manifold/_t_sne.py:783: FutureWarning: The default initialization in TSNE will change from 'random' to 'pca' in 1.2.\n",
            "  FutureWarning,\n",
            "/usr/local/lib/python3.7/dist-packages/sklearn/manifold/_t_sne.py:793: FutureWarning: The default learning rate in TSNE will change from 200.0 to 'auto' in 1.2.\n",
            "  FutureWarning,\n"
          ]
        }
      ],
      "source": [
        "X_embed = TSNE().fit_transform(X_word)"
      ]
    },
    {
      "cell_type": "code",
      "execution_count": 13,
      "metadata": {
        "colab": {
          "base_uri": "https://localhost:8080/"
        },
        "id": "EBqY4yghXWjL",
        "outputId": "0fa95fb1-97de-4048-92fc-cf1d7d880248"
      },
      "outputs": [
        {
          "data": {
            "text/plain": [
              "array([[-0.06255254,  0.05503182, -0.8791293 , ...,  0.36123273,\n",
              "         0.09598456,  0.09130669],\n",
              "       [-0.16676079, -0.19994019, -0.9698984 , ...,  0.35413802,\n",
              "         0.25892806,  0.09953993],\n",
              "       [ 0.5142158 ,  0.5069287 ,  0.28870875, ..., -0.6878716 ,\n",
              "         0.4862487 ,  0.13501498],\n",
              "       ...,\n",
              "       [-0.05244623,  0.00648626,  0.13831222, ..., -0.29675254,\n",
              "        -0.10239427,  0.10125794],\n",
              "       [-0.18546273, -0.23370284,  0.40865177, ..., -0.33860278,\n",
              "        -0.53976905, -0.42004132],\n",
              "       [-0.15764266, -0.38071582,  0.06126721, ...,  0.12270422,\n",
              "         0.05376288,  0.18085167]], dtype=float32)"
            ]
          },
          "execution_count": 13,
          "metadata": {},
          "output_type": "execute_result"
        }
      ],
      "source": [
        "X_word"
      ]
    },
    {
      "cell_type": "code",
      "execution_count": 14,
      "metadata": {
        "colab": {
          "base_uri": "https://localhost:8080/",
          "height": 646
        },
        "id": "yUbbMSM0eD3S",
        "outputId": "d455edd8-ed0a-45ae-a947-92460da441c0"
      },
      "outputs": [
        {
          "data": {
            "image/png": "[encoded data removed]",
            "text/plain": [
              "<Figure size 1800x792 with 1 Axes>"
            ]
          },
          "metadata": {
            "needs_background": "light"
          },
          "output_type": "display_data"
        }
      ],
      "source": [
        "plt.figure(figsize=(25, 11))\n",
        "plt.scatter(X_embed[:60, 0], X_embed[:60, 1])\n",
        "annotations = []\n",
        "for i, word in enumerate(list(words)[:60]):\n",
        "    annotations.append(plt.annotate(word, xy=(X_embed[i, 0]+.05, X_embed[i, 1]), fontsize=9, alpha=.5, ))"
      ]
    },
    {
      "cell_type": "code",
      "execution_count": null,
      "metadata": {
        "id": "poN38Hv3e4ia"
      },
      "outputs": [],
      "source": []
    }
  ],
  "metadata": {
    "accelerator": "GPU",
    "colab": {
      "collapsed_sections": [],
      "machine_shape": "hm",
      "name": "representation Word2Vec",
      "provenance": []
    },
    "kernelspec": {
      "display_name": "Python 3 (ipykernel)",
      "language": "python",
      "name": "python3"
    },
    "language_info": {
      "codemirror_mode": {
        "name": "ipython",
        "version": 3
      },
      "file_extension": ".py",
      "mimetype": "text/x-python",
      "name": "python",
      "nbconvert_exporter": "python",
      "pygments_lexer": "ipython3",
      "version": "3.9.7"
    }
  },
  "nbformat": 4,
  "nbformat_minor": 0
}
